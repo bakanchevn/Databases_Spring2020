{
 "cells": [
  {
   "cell_type": "markdown",
   "metadata": {},
   "source": [
    "# Задание 1 \n",
    "\n",
    "Рассмотрим 2 таблицы\n",
    "\n",
    "A\n",
    "\n",
    "|   name  |  key   | value\n",
    "|---------|--------- | ----\n",
    "| Ivanov  |   FIO  |  Иванов Иван Иванович\n",
    "| Ivanov  | Phone  |  +(7) 111-1111111\n",
    "| Ivanov  | email  | ivanov@ivanov.com\n",
    "| Petrov  |   FIO  | Петров Петр Петрович\n",
    "| Petrov  | Phone  |  +(7) 222-2222222\n",
    "| Petrov  | email  | petrov@petrov.com\n",
    "\n",
    "B\n",
    "\n",
    "|   name  |  FIO   | Phone | email\n",
    "|---------|---------|------|---\n",
    "| Ivanov  | Иванов Иван Иванович | +(7) 111-1111111 | ivanov@ivanov.com\n",
    "| Petrov  | Петров Петр Петрович | +(7) 222-2222222 | petrov@petrov.com\n",
    "\n",
    "\n",
    "1. Как из таблицы A получить B?\n",
    "2. Как из таблицы B получить A?\n"
   ]
  },
  {
   "cell_type": "code",
   "execution_count": null,
   "metadata": {},
   "outputs": [],
   "source": []
  },
  {
   "cell_type": "markdown",
   "metadata": {},
   "source": [
    "# Задание 2\n",
    "Рассмотрим таблицу StudentMarks\n",
    "\n",
    "| student_name | mark_date | mark_value\n",
    "|---------|--------- | ----\n",
    "| Ivanov  | 2019.01.01 | 3\n",
    "| Ivanov  | 2019.01.05 | 4\n",
    "| Ivanov  | 2019.02.03 | 5\n",
    "| Petrov  | 2019.02.01 | 2\n",
    "| Petrov  | 2019.02.16 | 4\n",
    "| Petrov  | 2019.04.17 | 5\n",
    "\n",
    "В данной таблице студенту проставляется оценка за определенную дату. Необходимо сформировать интервалы, \n",
    "за время которых оценка не менялась,\n",
    "и среднюю оценку, находящуюся в данном интервале.\n",
    "Текущий интервал должен заканчиваться на 5999.12.31\n",
    "\n",
    "\n",
    "По исходным данным результатом таблицы будет следущее:\n",
    "\n",
    "| client_name | mark_validfrom | mark_validto | average_mark_value\n",
    "|---------|--------- | ------ | -----\n",
    "| Ivanov  | 2019.01.01 | 2019.01.04 | 3\n",
    "| Ivanov  | 2019.01.05 | 2019.02.03 | 3.5\n",
    "| Ivanov  | 2019.02.03 | 5999.12.31 | 4\n",
    "| Petrov  | 2019.02.01 | 2019.02.16 | 2\n",
    "| Petrov  | 2019.02.16 | 2019.04.17 | 3\n",
    "| Petrov  | 2019.04.17 | 5999.12.31 | 3.6666\n"
   ]
  },
  {
   "cell_type": "code",
   "execution_count": null,
   "metadata": {},
   "outputs": [],
   "source": []
  },
  {
   "cell_type": "markdown",
   "metadata": {},
   "source": [
    "# Задание 3\n",
    "\n",
    "\n",
    "Рассмотрим таблицу CheatList, описывающий блокнот со шпаргалками. В данной таблице на одном листе может быть только одна шпаргалка по одному предмету. Блокнот состоит из 2N листов, пронумерованных от 0 до 2N-1. 0 лист всегда пустой, 2N-1 лист может быть как пустым, так и заполненным. В самом конце блокнота не может быть 2 подряд пустых листа. Необходимо вернуть таблицу вида (left_list, right_list), описывающий все листы в отсортированном порядке\n",
    "## Пример \n",
    "\n",
    "| ListNumber | Subject \n",
    "| -----------|--------\n",
    "|  1         | Math\n",
    "|  3         | Math\n",
    "|  4         | History\n",
    "\n",
    "## Результат\n",
    "\n",
    "| left_list | righ_list \n",
    "| --------- | ---------\n",
    "|   NULL    |  Math\n",
    "|   NULL    |  Math\n",
    "|   History |  NULL\n"
   ]
  },
  {
   "cell_type": "code",
   "execution_count": null,
   "metadata": {},
   "outputs": [],
   "source": []
  },
  {
   "cell_type": "markdown",
   "metadata": {},
   "source": [
    "# Задание 4\n",
    "Используя формат xml, описанный в [dbmstools](http://dbmstools.sourceforge.net/docs/xmlschema.html), напишите функцию на языке Python, на входе который будет путь к xml, на выходе - скрипт с DDL скриптами таблиц (можно ограничиться table блоком)"
   ]
  },
  {
   "cell_type": "code",
   "execution_count": null,
   "metadata": {},
   "outputs": [],
   "source": []
  },
  {
   "cell_type": "markdown",
   "metadata": {},
   "source": [
    "# Задание 5\n",
    "Необходимо уметь хранить матрицы MxM внутри СУБД. Предложите способ хранения, и приведите пример перемножения двух матриц средствами SQL"
   ]
  },
  {
   "cell_type": "code",
   "execution_count": null,
   "metadata": {},
   "outputs": [],
   "source": []
  }
 ],
 "metadata": {
  "kernelspec": {
   "display_name": "Python 3",
   "language": "python",
   "name": "python3"
  },
  "language_info": {
   "codemirror_mode": {
    "name": "ipython",
    "version": 3
   },
   "file_extension": ".py",
   "mimetype": "text/x-python",
   "name": "python",
   "nbconvert_exporter": "python",
   "pygments_lexer": "ipython3",
   "version": "3.7.3"
  }
 },
 "nbformat": 4,
 "nbformat_minor": 2
}
