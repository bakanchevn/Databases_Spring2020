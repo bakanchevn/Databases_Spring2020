{
 "cells": [
  {
   "cell_type": "markdown",
   "metadata": {},
   "source": [
    "## Задание 1\n",
    "\n",
    "К вам приходит на вход большой xml файл с данными. Ваша задача: на основе входного файла динамически составить схему базы данных (в 3 нормальной форме) и осуществить ее заполнение. Примеры xml файлов находятся в подпапке xml и взяты с https://aiweb.cs.washington.edu/research/projects/xmltk/xmldata/www/repository.html#courses"
   ]
  },
  {
   "cell_type": "markdown",
   "metadata": {},
   "source": []
  },
  {
   "cell_type": "markdown",
   "metadata": {},
   "source": [
    "## Задание 2\n",
    "\n",
    "После того как вы обработали xml файл в первый раз и создали, и заполнили таблицы, приходит новый xml файл. Структура файла может меняться. Ваша задача - либо динамически расширить структуры и дополнить новыми данным, а если такое невозможно (Структуры файлов противоречат друг другу), выдать ошибку и описание проблемы с конкретными деталями\n"
   ]
  },
  {
   "cell_type": "code",
   "execution_count": null,
   "metadata": {},
   "outputs": [],
   "source": []
  }
 ],
 "metadata": {
  "kernelspec": {
   "display_name": "Python 3",
   "language": "python",
   "name": "python3"
  },
  "language_info": {
   "codemirror_mode": {
    "name": "ipython",
    "version": 3
   },
   "file_extension": ".py",
   "mimetype": "text/x-python",
   "name": "python",
   "nbconvert_exporter": "python",
   "pygments_lexer": "ipython3",
   "version": "3.7.3"
  }
 },
 "nbformat": 4,
 "nbformat_minor": 2
}
